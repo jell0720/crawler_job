{
 "cells": [
  {
   "cell_type": "code",
   "execution_count": 83,
   "metadata": {},
   "outputs": [],
   "source": [
    "import requests as r\n",
    "import sqlite3\n",
    "import lxml\n",
    "from bs4 import BeautifulSoup\n",
    "import math\n",
    "import time\n",
    "import threading"
   ]
  },
  {
   "cell_type": "code",
   "execution_count": 2,
   "metadata": {
    "collapsed": true
   },
   "outputs": [],
   "source": [
    "# index\n",
    "index = \"https://www.104.com.tw\"\n",
    "\n",
    "# job page list src (page1)\n",
    "# https://www.104.com.tw/jobbank/joblist/auto_joblist.cfm?auto=1&jobsource=n104bank1&ro=0&jobcat=2007000000&order=2&asc=0&page=1&psl=N_A\n",
    "\n",
    "# job href selector\n",
    "# soup.select('div.jobname_summary')[0].select('a')[0]['href']"
   ]
  },
  {
   "cell_type": "code",
   "execution_count": null,
   "metadata": {
    "collapsed": true
   },
   "outputs": [],
   "source": []
  },
  {
   "cell_type": "code",
   "execution_count": 21,
   "metadata": {
    "collapsed": true
   },
   "outputs": [],
   "source": [
    "conn = sqlite3.connect('job.sqlite')\n",
    "c = conn.cursor()"
   ]
  },
  {
   "cell_type": "code",
   "execution_count": 22,
   "metadata": {
    "collapsed": true,
    "scrolled": true
   },
   "outputs": [],
   "source": [
    "# jobID\n",
    "# src\n",
    "# done\n",
    "c.execute('''\n",
    "CREATE TABLE job104(\n",
    "  jobID INTEGER PRIMARY KEY AUTOINCREMENT,\n",
    "  title TEXT NOT NULL,\n",
    "  src TEXT NOT NULL,\n",
    "  done TEXT)''')\n",
    "conn.commit()\n",
    "conn.close()"
   ]
  },
  {
   "cell_type": "code",
   "execution_count": null,
   "metadata": {
    "collapsed": true
   },
   "outputs": [],
   "source": []
  },
  {
   "cell_type": "code",
   "execution_count": 22,
   "metadata": {
    "collapsed": true
   },
   "outputs": [],
   "source": []
  },
  {
   "cell_type": "code",
   "execution_count": 3,
   "metadata": {
    "scrolled": true
   },
   "outputs": [
    {
     "name": "stdout",
     "output_type": "stream",
     "text": [
      "Total pages:\n",
      "150\n"
     ]
    }
   ],
   "source": [
    "# number of total job \n",
    "# there are 20 job hrefs in each page\n",
    "# so, if 19974 jobs / 20 ---> 997.35 pages\n",
    "# but we could only get into page 150\n",
    "src = \"https://www.104.com.tw/jobbank/joblist/joblist.cfm?cat=2007000000&jobsource=n104bank1&ro=0\"\n",
    "res = r.get(src)\n",
    "totalPages = int(BeautifulSoup(res.text, 'lxml').select('form#jobform')[0].select('ul')[0].select('li')[0].text.split('筆')[0][1:].strip())\n",
    "res.close()\n",
    "# Web pages fix\n",
    "totalPages = 150 if math.ceil(totalPages / 20)  > 150 else math.ceil(totalPages / 20) \n",
    "print('Total pages:')\n",
    "print(totalPages)"
   ]
  },
  {
   "cell_type": "code",
   "execution_count": null,
   "metadata": {
    "collapsed": true
   },
   "outputs": [],
   "source": []
  },
  {
   "cell_type": "code",
   "execution_count": 60,
   "metadata": {
    "scrolled": true
   },
   "outputs": [],
   "source": [
    "# test get...\n",
    "p = 1\n",
    "src = \"https://www.104.com.tw/jobbank/joblist/joblist.cfm?jobsource=n104bank1&ro=0&jobcat=2007000000&order=3&asc=0&page={}\".format(p)\n",
    "res = r.get(src)\n",
    "soup = BeautifulSoup(res.text, 'lxml')"
   ]
  },
  {
   "cell_type": "code",
   "execution_count": 62,
   "metadata": {},
   "outputs": [
    {
     "name": "stdout",
     "output_type": "stream",
     "text": [
      "30\n",
      "系統分析師 (月薪80000元以上)\n",
      "https://www.104.com.tw/job/?jobno=5gm45&jobsource=104_hotorder\n"
     ]
    }
   ],
   "source": [
    "j = 1\n",
    "title = soup.select('div.job_name')[j].text.strip()\n",
    "href = \"https://www.104.com.tw\" + soup.select('div.job_name')[j].select('a')[0]['href']\n",
    "totalJid = soup.select('div.job_name')\n",
    "print(len(totalJid))\n",
    "print(title)\n",
    "print(href)"
   ]
  },
  {
   "cell_type": "code",
   "execution_count": 99,
   "metadata": {},
   "outputs": [
    {
     "name": "stdout",
     "output_type": "stream",
     "text": [
      "page: 1----------\n",
      "page: 2----------\n",
      "page: 3----------\n",
      "page: 4----------\n",
      "page: 5----------\n",
      "page: 6----------\n",
      "page: 7----------\n",
      "page: 8----------\n",
      "page: 9----------\n",
      "page: 10----------\n",
      "page: 11----------\n",
      "page: 12----------\n",
      "page: 13----------\n",
      "page: 14----------\n",
      "page: 15----------\n",
      "page: 16----------\n",
      "page: 17----------\n",
      "page: 18----------\n",
      "page: 19----------\n",
      "page: 20----------\n",
      "page: 21----------\n",
      "page: 22----------\n",
      "page: 23----------\n",
      "page: 24----------\n",
      "page: 25----------\n",
      "page: 26----------\n",
      "page: 27----------\n",
      "page: 28----------\n",
      "page: 29----------\n",
      "page: 30----------\n",
      "page: 31----------\n",
      "page: 32----------\n",
      "page: 33----------\n",
      "page: 34----------\n",
      "page: 35----------\n",
      "page: 36----------\n",
      "page: 37----------\n",
      "page: 38----------\n",
      "page: 39----------\n",
      "page: 40----------\n",
      "page: 41----------\n",
      "page: 42----------\n",
      "page: 43----------\n",
      "page: 44----------\n",
      "page: 45----------\n",
      "page: 46----------\n",
      "page: 47----------\n",
      "page: 48----------\n",
      "page: 49----------\n",
      "page: 50----------\n",
      "page: 51----------\n",
      "page: 52----------\n",
      "page: 53----------\n",
      "page: 54----------\n",
      "page: 55----------\n",
      "page: 56----------\n",
      "page: 57----------\n",
      "page: 58----------\n",
      "page: 59----------\n",
      "page: 60----------\n",
      "page: 61----------\n"
     ]
    },
    {
     "ename": "KeyboardInterrupt",
     "evalue": "",
     "output_type": "error",
     "traceback": [
      "\u001b[0;31m---------------------------------------------------------------------------\u001b[0m",
      "\u001b[0;31mKeyboardInterrupt\u001b[0m                         Traceback (most recent call last)",
      "\u001b[0;32m<ipython-input-99-919a8b5e039b>\u001b[0m in \u001b[0;36m<module>\u001b[0;34m()\u001b[0m\n\u001b[1;32m     10\u001b[0m         \u001b[0mtitle\u001b[0m \u001b[0;34m=\u001b[0m \u001b[0msoup\u001b[0m\u001b[0;34m.\u001b[0m\u001b[0mselect\u001b[0m\u001b[0;34m(\u001b[0m\u001b[0;34m'div.job_name'\u001b[0m\u001b[0;34m)\u001b[0m\u001b[0;34m[\u001b[0m\u001b[0mjid\u001b[0m\u001b[0;34m]\u001b[0m\u001b[0;34m.\u001b[0m\u001b[0mtext\u001b[0m\u001b[0;34m.\u001b[0m\u001b[0mstrip\u001b[0m\u001b[0;34m(\u001b[0m\u001b[0;34m)\u001b[0m\u001b[0;34m\u001b[0m\u001b[0m\n\u001b[1;32m     11\u001b[0m         \u001b[0mhref\u001b[0m \u001b[0;34m=\u001b[0m \u001b[0;34m\"https://www.104.com.tw\"\u001b[0m \u001b[0;34m+\u001b[0m \u001b[0msoup\u001b[0m\u001b[0;34m.\u001b[0m\u001b[0mselect\u001b[0m\u001b[0;34m(\u001b[0m\u001b[0;34m'div.job_name'\u001b[0m\u001b[0;34m)\u001b[0m\u001b[0;34m[\u001b[0m\u001b[0mjid\u001b[0m\u001b[0;34m]\u001b[0m\u001b[0;34m.\u001b[0m\u001b[0mselect\u001b[0m\u001b[0;34m(\u001b[0m\u001b[0;34m'a'\u001b[0m\u001b[0;34m)\u001b[0m\u001b[0;34m[\u001b[0m\u001b[0;36m0\u001b[0m\u001b[0;34m]\u001b[0m\u001b[0;34m[\u001b[0m\u001b[0;34m'href'\u001b[0m\u001b[0;34m]\u001b[0m\u001b[0;34m\u001b[0m\u001b[0m\n\u001b[0;32m---> 12\u001b[0;31m         \u001b[0minsert_href\u001b[0m\u001b[0;34m(\u001b[0m\u001b[0mtitle\u001b[0m\u001b[0;34m,\u001b[0m \u001b[0mhref\u001b[0m\u001b[0;34m)\u001b[0m\u001b[0;34m\u001b[0m\u001b[0m\n\u001b[0m\u001b[1;32m     13\u001b[0m     \u001b[0;31m# print(totalJid)\u001b[0m\u001b[0;34m\u001b[0m\u001b[0;34m\u001b[0m\u001b[0m\n\u001b[1;32m     14\u001b[0m     \u001b[0mres\u001b[0m\u001b[0;34m.\u001b[0m\u001b[0mclose\u001b[0m\u001b[0;34m(\u001b[0m\u001b[0;34m)\u001b[0m\u001b[0;34m\u001b[0m\u001b[0m\n",
      "\u001b[0;32m<ipython-input-94-93ead288bf9a>\u001b[0m in \u001b[0;36minsert_href\u001b[0;34m(title, href)\u001b[0m\n\u001b[1;32m     14\u001b[0m                 \u001b[0mc\u001b[0m \u001b[0;34m=\u001b[0m \u001b[0mconn\u001b[0m\u001b[0;34m.\u001b[0m\u001b[0mcursor\u001b[0m\u001b[0;34m(\u001b[0m\u001b[0;34m)\u001b[0m\u001b[0;34m\u001b[0m\u001b[0m\n\u001b[1;32m     15\u001b[0m                 \u001b[0minsert_string\u001b[0m \u001b[0;34m=\u001b[0m \u001b[0;34m\"INSERT INTO job104 (title, src) VALUES (?, ?)\"\u001b[0m\u001b[0;34m\u001b[0m\u001b[0m\n\u001b[0;32m---> 16\u001b[0;31m                 \u001b[0mc\u001b[0m\u001b[0;34m.\u001b[0m\u001b[0mexecute\u001b[0m\u001b[0;34m(\u001b[0m\u001b[0minsert_string\u001b[0m\u001b[0;34m,\u001b[0m \u001b[0;34m(\u001b[0m\u001b[0mtitle\u001b[0m\u001b[0;34m,\u001b[0m \u001b[0mhref\u001b[0m\u001b[0;34m)\u001b[0m\u001b[0;34m)\u001b[0m\u001b[0;34m\u001b[0m\u001b[0m\n\u001b[0m\u001b[1;32m     17\u001b[0m \u001b[0;34m\u001b[0m\u001b[0m\n\u001b[1;32m     18\u001b[0m     \u001b[0;32mexcept\u001b[0m \u001b[0mConnectionError\u001b[0m \u001b[0;32mas\u001b[0m \u001b[0me\u001b[0m\u001b[0;34m:\u001b[0m\u001b[0;34m\u001b[0m\u001b[0m\n",
      "\u001b[0;31mKeyboardInterrupt\u001b[0m: "
     ]
    }
   ],
   "source": [
    "for page in range(60, totalPages + 1):\n",
    "# for page in range(1, 2):\n",
    "    src = \"https://www.104.com.tw/jobbank/joblist/joblist.cfm?jobsource=n104bank1&ro=0&jobcat=2007000000&order=3&asc=0&page={}\".format(page)\n",
    "    res = r.get(src)\n",
    "    soup = BeautifulSoup(res.text, 'lxml')\n",
    "    totalJid = len(soup.select('div.job_name'))\n",
    "    print('page: ' + str(page) + '----------')\n",
    "    \n",
    "    for jid in range(0, totalJid):\n",
    "        title = soup.select('div.job_name')[jid].text.strip()\n",
    "        href = \"https://www.104.com.tw\" + soup.select('div.job_name')[jid].select('a')[0]['href']\n",
    "        insert_href(title, href)\n",
    "    # print(totalJid)\n",
    "    res.close()\n",
    "    time.sleep(2)\n",
    "    \n",
    "print('done!!')"
   ]
  },
  {
   "cell_type": "code",
   "execution_count": 94,
   "metadata": {},
   "outputs": [],
   "source": [
    "def insert_href(title, href):\n",
    "    try:\n",
    "        with sqlite3.connect('job.sqlite') as conn:\n",
    "\n",
    "            # Query histry, whether we have insert it before...\n",
    "            c = conn.cursor()\n",
    "            qryString = 'SELECT src FROM job104 where src = ?'\n",
    "            c.execute(qryString, (href,))\n",
    "\n",
    "            # if there are nothing like href\n",
    "            if len(c.fetchall()) == 0:\n",
    "\n",
    "                # insert new one\n",
    "                c = conn.cursor()\n",
    "                insert_string = \"INSERT INTO job104 (title, src) VALUES (?, ?)\"\n",
    "                c.execute(insert_string, (title, href))\n",
    "\n",
    "    except ConnectionError as e:\n",
    "        print(e)\n",
    "        print(href)"
   ]
  },
  {
   "cell_type": "code",
   "execution_count": 14,
   "metadata": {
    "collapsed": true,
    "scrolled": true
   },
   "outputs": [],
   "source": [
    "try:\n",
    "    with sqlite3.connect('job.sqlite') as conn:\n",
    "        \n",
    "        # Query histry, whether we have insert it before...\n",
    "        c = conn.cursor()\n",
    "        qryString = 'SELECT src FROM job104 where src = ?'\n",
    "        c.execute(qryString, (href,))\n",
    "        \n",
    "        # if there are nothing like href\n",
    "        if len(c.fetchall()) == 0:\n",
    "            \n",
    "            # insert new one\n",
    "            c = conn.cursor()\n",
    "            insert_string = \"INSERT INTO job104 (title, src) VALUES (?, ?)\"\n",
    "            c.execute(insert_string, (title, href))\n",
    "            \n",
    "except ConnectionError as e:\n",
    "    print(e)\n",
    "    print(href)"
   ]
  },
  {
   "cell_type": "code",
   "execution_count": 96,
   "metadata": {
    "scrolled": true
   },
   "outputs": [],
   "source": [
    "conn = sqlite3.connect('job.sqlite')\n",
    "c = conn.cursor()\n",
    "c.execute('select * from job104')\n",
    "# c.execute('drop table job104')\n",
    "# c.execute('delete from job104 where jobid < 10')\n",
    "conn.commit()"
   ]
  },
  {
   "cell_type": "code",
   "execution_count": 97,
   "metadata": {},
   "outputs": [
    {
     "data": {
      "text/plain": [
       "[(1,\n",
       "  '運維主管',\n",
       "  'https://www.104.com.tw/job/?jobno=57o0l&jobsource=104_hotorder',\n",
       "  None),\n",
       " (2,\n",
       "  '系統分析師 (月薪80000元以上)',\n",
       "  'https://www.104.com.tw/job/?jobno=5gm45&jobsource=104_hotorder',\n",
       "  None),\n",
       " (3,\n",
       "  'DevOps',\n",
       "  'https://www.104.com.tw/job/?jobno=4qh2a&jobsource=104_hotorder',\n",
       "  None),\n",
       " (4,\n",
       "  '系統分析師 Solutions Delivery Analyst',\n",
       "  'https://www.104.com.tw/job/?jobno=4cwz0&jobsource=104_hotorder',\n",
       "  None),\n",
       " (5,\n",
       "  '約聘系統分析師 Solutions Delivery Analyst (Contractor)',\n",
       "  'https://www.104.com.tw/job/?jobno=5g0bc&jobsource=104_hotorder',\n",
       "  None),\n",
       " (6,\n",
       "  '資深後端工程師',\n",
       "  'https://www.104.com.tw/job/?jobno=5edsi&jobsource=104_hotorder',\n",
       "  None),\n",
       " (7,\n",
       "  'PHP資深後端工程師 (上班地點台中)',\n",
       "  'https://www.104.com.tw/job/?jobno=5f51j&jobsource=104_hotorder',\n",
       "  None),\n",
       " (8,\n",
       "  'Sr. 前端工程師【人才經營部】',\n",
       "  'https://www.104.com.tw/job/?jobno=53nwi&jobsource=104_hotorder',\n",
       "  None),\n",
       " (9,\n",
       "  '資深保險系統分析師',\n",
       "  'https://www.104.com.twhttp://hunter.104.com.tw/104hunter.jsp?trc=104p&jobsource=n104bank1&urlpage=job_description&jobno=9178215',\n",
       "  None),\n",
       " (10,\n",
       "  '【Insurance Company 】 AS400 COBOL Senior System Designer',\n",
       "  'https://www.104.com.tw/job/?jobno=5gpqj&jobsource=n104bank1&hotjob_chr=',\n",
       "  None),\n",
       " (11,\n",
       "  '技術副總監',\n",
       "  'https://www.104.com.tw/job/?jobno=5g1v5&jobsource=n104bank1&hotjob_chr=',\n",
       "  None),\n",
       " (12,\n",
       "  'MIS資訊主管',\n",
       "  'https://www.104.com.tw/job/?jobno=5g5ma&jobsource=n104bank1&hotjob_chr=',\n",
       "  None),\n",
       " (13,\n",
       "  'ITD-03 IT副理',\n",
       "  'https://www.104.com.tw/job/?jobno=5dtem&jobsource=n104bank1&hotjob_chr=',\n",
       "  None),\n",
       " (14,\n",
       "  'Oracle ERP資深工程師',\n",
       "  'https://www.104.com.tw/job/?jobno=5e3w2&jobsource=n104bank1&hotjob_chr=',\n",
       "  None),\n",
       " (15,\n",
       "  '供應鏈主管 (F02)',\n",
       "  'https://www.104.com.tw/job/?jobno=5ggel&jobsource=n104bank1&hotjob_chr=',\n",
       "  None),\n",
       " (16,\n",
       "  '(Touch) 研發主管',\n",
       "  'https://www.104.com.tw/job/?jobno=5gmb2&jobsource=n104bank1&hotjob_chr=',\n",
       "  None),\n",
       " (17,\n",
       "  'Information System Manager - Taiwan and Hong Kong',\n",
       "  'https://www.104.com.tw/job/?jobno=5gmeh&jobsource=n104bank1&hotjob_chr=',\n",
       "  None),\n",
       " (18,\n",
       "  '資訊經理',\n",
       "  'https://www.104.com.tw/job/?jobno=5f050&jobsource=n104bank1&hotjob_chr=',\n",
       "  None),\n",
       " (19,\n",
       "  'Java工程師(醫療業)',\n",
       "  'https://www.104.com.tw/job/?jobno=5f5dx&jobsource=n104bank1&hotjob_chr=',\n",
       "  None),\n",
       " (20,\n",
       "  'C#工程師(醫療業)',\n",
       "  'https://www.104.com.tw/job/?jobno=5f5en&jobsource=n104bank1&hotjob_chr=',\n",
       "  None),\n",
       " (21,\n",
       "  'Software (SW) System Design Director (DTV / STB)',\n",
       "  'https://www.104.com.tw/job/?jobno=5g6yc&jobsource=n104bank1&hotjob_chr=',\n",
       "  None),\n",
       " (22,\n",
       "  '系統開發主管',\n",
       "  'https://www.104.com.tw/job/?jobno=5g79t&jobsource=n104bank1&hotjob_chr=',\n",
       "  None),\n",
       " (23,\n",
       "  'JO- CTO/ 軟體公司',\n",
       "  'https://www.104.com.tw/job/?jobno=5gg9d&jobsource=n104bank1&hotjob_chr=',\n",
       "  None),\n",
       " (24,\n",
       "  '[行政]高級系統分析師',\n",
       "  'https://www.104.com.tw/job/?jobno=5ekec&jobsource=n104bank1&hotjob_chr=',\n",
       "  None),\n",
       " (25,\n",
       "  '技術總監 (深圳 / 香港)',\n",
       "  'https://www.104.com.tw/job/?jobno=5ex7c&jobsource=n104bank1&hotjob_chr=',\n",
       "  None),\n",
       " (26,\n",
       "  '資訊主管',\n",
       "  'https://www.104.com.tw/job/?jobno=5ft6a&jobsource=n104bank1&hotjob_chr=',\n",
       "  None),\n",
       " (27,\n",
       "  '資深產品開發韌體工程師  Sr. Product Development/ Firmware Engineer',\n",
       "  'https://www.104.com.tw/job/?jobno=5fwes&jobsource=n104bank1&hotjob_chr=',\n",
       "  None),\n",
       " (28,\n",
       "  'Architect/Software Engineering Director',\n",
       "  'https://www.104.com.tw/job/?jobno=5dfr9&jobsource=n104bank1&hotjob_chr=',\n",
       "  None)]"
      ]
     },
     "execution_count": 97,
     "metadata": {},
     "output_type": "execute_result"
    }
   ],
   "source": [
    "c.fetchall()"
   ]
  },
  {
   "cell_type": "code",
   "execution_count": 98,
   "metadata": {
    "collapsed": true
   },
   "outputs": [],
   "source": [
    "c.close()"
   ]
  },
  {
   "cell_type": "code",
   "execution_count": null,
   "metadata": {
    "collapsed": true
   },
   "outputs": [],
   "source": [
    "# Start Looping...\n",
    "#for p in range(1, totalPages):\n",
    "#    src = \"https://www.104.com.tw/jobbank/joblist/auto_joblist.cfm?auto=1&jobsource=n104bank1&ro=0&jobcat=2007000000&order=2&asc=0&page={page}&psl=N_A\".format(page = p)\n",
    "\n",
    "# res.close()"
   ]
  },
  {
   "cell_type": "code",
   "execution_count": 23,
   "metadata": {},
   "outputs": [
    {
     "data": {
      "text/plain": [
       "'/job/?jobno=4m9ij&jobsource=n104bank1&hotjob_chr='"
      ]
     },
     "execution_count": 23,
     "metadata": {},
     "output_type": "execute_result"
    }
   ],
   "source": [
    "soup.select('div.jobname_summary')[0].select('a')[0]['href']"
   ]
  },
  {
   "cell_type": "code",
   "execution_count": 24,
   "metadata": {},
   "outputs": [
    {
     "data": {
      "text/plain": [
       "'https://www.104.com.tw/job/?jobno=4m9ij&jobsource=n104bank1&hotjob_chr='"
      ]
     },
     "execution_count": 24,
     "metadata": {},
     "output_type": "execute_result"
    }
   ],
   "source": [
    "\"https://www.104.com.tw\" + soup.select('div.jobname_summary')[0].select('a')[0]['href']"
   ]
  }
 ],
 "metadata": {
  "kernelspec": {
   "display_name": "Python 3",
   "language": "python",
   "name": "python3"
  },
  "language_info": {
   "codemirror_mode": {
    "name": "ipython",
    "version": 3
   },
   "file_extension": ".py",
   "mimetype": "text/x-python",
   "name": "python",
   "nbconvert_exporter": "python",
   "pygments_lexer": "ipython3",
   "version": "3.6.1"
  }
 },
 "nbformat": 4,
 "nbformat_minor": 2
}
